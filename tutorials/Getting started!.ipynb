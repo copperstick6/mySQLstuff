{
 "cells": [
  {
   "cell_type": "markdown",
   "metadata": {},
   "source": [
    "# Getting started!"
   ]
  },
  {
   "cell_type": "markdown",
   "metadata": {},
   "source": [
    "Now that you're up and running with the packages needed, we can now start with connecting to the database. This is normally split up into 4 parts."
   ]
  },
  {
   "cell_type": "markdown",
   "metadata": {},
   "source": [
    "## Creating a Connection object"
   ]
  },
  {
   "cell_type": "markdown",
   "metadata": {},
   "source": [
    "Utilizing pymysql, we want to utilize the connect() method within the package to establish a connection with our database. Open up mySQL Workbench and find out what your username, current database with this query in mySQL"
   ]
  },
  {
   "cell_type": "raw",
   "metadata": {},
   "source": [
    "SELECT DATABASE(), USER(), VERSION();"
   ]
  },
  {
   "cell_type": "markdown",
   "metadata": {},
   "source": [
    "This will tell you exactly what database you are using. You should get a result grid after you execute the query. Now that you have this, you can proceed to create your connection. You will need your host, which are the characters following the @ sign in the users() field inside your grid. You will need the database, and the host, which are the characters before the @ sign. Now, this is what you should have."
   ]
  },
  {
   "cell_type": "code",
   "execution_count": 1,
   "metadata": {
    "collapsed": true
   },
   "outputs": [],
   "source": [
    "import keys\n",
    "import pymysql\n",
    "pymysql.install_as_MySQLdb()\n",
    "import MySQLdb\n",
    "connection = pymysql.connect(host='localhost',\n",
    "                             user='copperstick6',\n",
    "                             password=keys.sqlKey(),\n",
    "                             db= \"sys\",\n",
    "                             charset='utf8mb4',\n",
    "                             cursorclass=pymysql.cursors.DictCursor)"
   ]
  },
  {
   "cell_type": "markdown",
   "metadata": {},
   "source": [
    "Note that I have imported keys, that's where I store all my passwords. If you would like to do the same, just create your own python keys file and import and call it."
   ]
  },
  {
   "cell_type": "markdown",
   "metadata": {},
   "source": [
    "Note that the formatting is also strange, while you could do it in one line, this is the popular convention, as this way makes it look a lot cleaner."
   ]
  },
  {
   "cell_type": "markdown",
   "metadata": {},
   "source": [
    "Do also note that I have also filled the optional cursorclass field. This will allow us to see the data in a more clear way (this makes the output better formatted, you'll see why)"
   ]
  },
  {
   "cell_type": "markdown",
   "metadata": {},
   "source": [
    "Now, we have created a connection object, we can begin with the next step: Cursors!"
   ]
  },
  {
   "cell_type": "markdown",
   "metadata": {},
   "source": [
    "## Cursors! Let's do stuff with our database!"
   ]
  },
  {
   "cell_type": "markdown",
   "metadata": {},
   "source": [
    "The point of the cursor and why we have to create it is due to mySQL creating a cursor when we log into the database manually, thus we have to emulate this when we log into the mySQL shell via python. It's quite simple, actually. Below is the code you need."
   ]
  },
  {
   "cell_type": "code",
   "execution_count": null,
   "metadata": {
    "collapsed": true
   },
   "outputs": [],
   "source": [
    "cursor = connection.cursor()"
   ]
  },
  {
   "cell_type": "markdown",
   "metadata": {},
   "source": [
    "Now we're ready to issue commands! Woohoo!"
   ]
  },
  {
   "cell_type": "markdown",
   "metadata": {},
   "source": [
    "## Interacting with the database!"
   ]
  },
  {
   "cell_type": "markdown",
   "metadata": {},
   "source": [
    "Now that we have our cursor, we can now issue commands to the mySQL shell. Normally this is done by invoking execute() on our cursor object like thus:"
   ]
  },
  {
   "cell_type": "code",
   "execution_count": null,
   "metadata": {
    "collapsed": true
   },
   "outputs": [],
   "source": [
    "cursor.execute()"
   ]
  },
  {
   "cell_type": "markdown",
   "metadata": {},
   "source": [
    "## Closing the database!"
   ]
  },
  {
   "cell_type": "markdown",
   "metadata": {},
   "source": [
    "In mySQL, we can close the database by ending the session using either quit or exit. However, whether we are able to close the database early depends on whether the database administrator has turned on or off autocommit, thus, we need to invoke the commit method on our database just to be sure. "
   ]
  },
  {
   "cell_type": "code",
   "execution_count": null,
   "metadata": {
    "collapsed": true
   },
   "outputs": [],
   "source": [
    "connection.commit()"
   ]
  },
  {
   "cell_type": "markdown",
   "metadata": {},
   "source": [
    "After these changes are commited, then we are able to close the connection to the database this way:"
   ]
  },
  {
   "cell_type": "code",
   "execution_count": null,
   "metadata": {
    "collapsed": true
   },
   "outputs": [],
   "source": [
    "connection.close()"
   ]
  },
  {
   "cell_type": "markdown",
   "metadata": {},
   "source": [
    "That's the basic rundown on how to get a connection going and how to execute commands. Just a few words. \n",
    "In pymysql, all database objects are discrete. This means that you can have multiple connections each under a different name and execute commands. You can thus copy data from one database to another or manipulate them however you like."
   ]
  }
 ],
 "metadata": {
  "kernelspec": {
   "display_name": "Python 3",
   "language": "python",
   "name": "python3"
  },
  "language_info": {
   "codemirror_mode": {
    "name": "ipython",
    "version": 3
   },
   "file_extension": ".py",
   "mimetype": "text/x-python",
   "name": "python",
   "nbconvert_exporter": "python",
   "pygments_lexer": "ipython3",
   "version": "3.5.2"
  }
 },
 "nbformat": 4,
 "nbformat_minor": 2
}
