{
 "cells": [
  {
   "cell_type": "markdown",
   "metadata": {},
   "source": [
    "# Inserting data"
   ]
  },
  {
   "cell_type": "markdown",
   "metadata": {},
   "source": [
    "Probably one of the most crucial parts of any database and a part of the Update part of our acronym CRUD, is adding data to our database. The easiest way to insert a new database is using the **INSERT INTO** statement."
   ]
  },
  {
   "cell_type": "markdown",
   "metadata": {},
   "source": [
    "### INSERT INTO"
   ]
  },
  {
   "cell_type": "markdown",
   "metadata": {},
   "source": [
    "Before we dive into how to use INSERT INTO, we should recall the [zen of python] (https://www.python.org/dev/peps/pep-0020/),*There Should be one - and preferably only one - way to do it*. For retrieval, we used the SELECT statement. In this case, to add, we use INSERT INTO. The syntax of inserting data using INSERT INTO is thus, assuming our users database in the previous couple of examples."
   ]
  },
  {
   "cell_type": "code",
   "execution_count": null,
   "metadata": {
    "collapsed": false
   },
   "outputs": [],
   "source": [
    "INSERT INTO users (\"id\", \"email\", \"password\")\\\n",
    "VALUES (\"3\", \"tested@tested.com\", \"PogChamp\");"
   ]
  },
  {
   "cell_type": "markdown",
   "metadata": {},
   "source": [
    "The syntax for insertion is generally INSERT INTO *database name* (\"*column name 1*\", \"*column name 2*\",...) VALUES (values corresponding to your ordering of columns). Do note that you can choose to do this:"
   ]
  },
  {
   "cell_type": "code",
   "execution_count": null,
   "metadata": {
    "collapsed": true
   },
   "outputs": [],
   "source": [
    "INSERT INTO users (\"id\")\\\n",
    "VALUES(\"4\");"
   ]
  },
  {
   "cell_type": "markdown",
   "metadata": {},
   "source": [
    "And this would also be syntactically correct. Null values are not necessarily bad and can be inserted into the database, but do be careful. They tend to lead to errors and exceptions when retrieving the data."
   ]
  },
  {
   "cell_type": "markdown",
   "metadata": {},
   "source": [
    "## Inserting with Python"
   ]
  },
  {
   "cell_type": "markdown",
   "metadata": {},
   "source": [
    "Insertion is just as simple as normal querying. Don't forget that after you insert the data, you have to commit the connection and then create a new query to check if the result went through."
   ]
  },
  {
   "cell_type": "code",
   "execution_count": null,
   "metadata": {
    "collapsed": true
   },
   "outputs": [],
   "source": [
    "import keys\n",
    "import pymysql\n",
    "pymysql.install_as_MySQLdb()\n",
    "import MySQLdb\n",
    "connection = pymysql.connect(host='localhost',\n",
    "                             user='copperstick6',\n",
    "                             password=keys.sqlKey(),\n",
    "                             db= \"sys\",\n",
    "                             charset='utf8mb4',\n",
    "                             cursorclass=pymysql.cursors.DictCursor)\n",
    "\n",
    "with connection.cursor() as cursor:\n",
    "    sql = \"INSERT INTO users (id, email, password) VALUES ('3', 'tested@tested.com', 'KappaPride');\"\n",
    "    cursor.execute(sql)\n",
    "    connection.commit()\n",
    "    getData = \"SELECT * FROM users\"\n",
    "    cursor.execute(getData)\n",
    "    result = cursor.fetchall()\n",
    "    for record in result:\n",
    "        print(\"id: \" + str(record['id']) + \" email: \" + str(record['email']) + \" password: \" + str(record['password']))\n",
    "\n",
    "connection.close()"
   ]
  },
  {
   "cell_type": "markdown",
   "metadata": {},
   "source": [
    "## Breakdown"
   ]
  },
  {
   "cell_type": "markdown",
   "metadata": {},
   "source": [
    "On Line 13, we start out by creating out query using the standard format of INSERT INTO which we learned about above. We execute the query using the execute() method. We then commit the connection in order to save changes. Next, we use the SELECT * query to make sure that the data is commited. Afterwards, we just iterate through all the keys in the rows. \n",
    "The following should be your output, on both mySQL and python."
   ]
  },
  {
   "cell_type": "code",
   "execution_count": null,
   "metadata": {
    "collapsed": true
   },
   "outputs": [],
   "source": [
    "Python Console output:\n",
    "id: 1 email: test@test.com password: 1337\n",
    "id: 2 email: tester@tester.com password: PogChamp\n",
    "id: 3 email: tested@tested.com password: KappaPride\n",
    "\n",
    "            \n",
    "mySQL output:\n",
    "1\ttest@test.com\t1337\n",
    "2\ttester@tester.com\tPogChamp\n",
    "3\ttested@tested.com\tKappaPride"
   ]
  },
  {
   "cell_type": "markdown",
   "metadata": {},
   "source": [
    "## User input"
   ]
  },
  {
   "cell_type": "markdown",
   "metadata": {},
   "source": [
    "In all of our examples so far, we've inserted stuff manually. What if we wanted to send in data from an outside source and commit that to our database? In this case, we would use %s to present the data as a String when we send it into our SQL query to be executed. An example can be found below. Let's name our method addUser, because that's what it'll do."
   ]
  },
  {
   "cell_type": "code",
   "execution_count": null,
   "metadata": {
    "collapsed": false
   },
   "outputs": [],
   "source": [
    "import keys\n",
    "import pymysql\n",
    "pymysql.install_as_MySQLdb()\n",
    "import MySQLdb\n",
    "def addUser(userEmail, userPassword):\n",
    "    connection = pymysql.connect(host = 'localhost',\n",
    "                                user = 'copperstick6',\n",
    "                                password = keys.sqlKey(),\n",
    "                                db= 'sys',\n",
    "                                charset = 'utf8mb4',\n",
    "                                cursorclass = pymysql.cursors.DictCursor)\n",
    "    with connection.cursor() as cursor:\n",
    "        sql = \"INSERT INTO users (email, password) VALUES (%s, %s);\"\n",
    "        cursor.execute(sql, (userEmail, userPassword))\n",
    "        connection.commit()\n",
    "        getData = \"SELECT * FROM users;\"\n",
    "        cursor.execute(getData)\n",
    "        result = cursor.fetchall()\n",
    "        for record in result:\n",
    "            print(\"id: \" + str(record['id']) + \" email: \" + str(record['email']) + \" password: \" + str(record['password']))\n",
    "    connection.close()"
   ]
  },
  {
   "cell_type": "markdown",
   "metadata": {},
   "source": [
    "Using the %s we can convert any input parameters into a string format and input it into our query. Try it out yourself."
   ]
  },
  {
   "cell_type": "markdown",
   "metadata": {},
   "source": [
    "Next, we'll be going through creating databases, and deleting from "
   ]
  }
 ],
 "metadata": {
  "kernelspec": {
   "display_name": "Python 3",
   "language": "python",
   "name": "python3"
  },
  "language_info": {
   "codemirror_mode": {
    "name": "ipython",
    "version": 3
   },
   "file_extension": ".py",
   "mimetype": "text/x-python",
   "name": "python",
   "nbconvert_exporter": "python",
   "pygments_lexer": "ipython3",
   "version": "3.5.2"
  }
 },
 "nbformat": 4,
 "nbformat_minor": 2
}
