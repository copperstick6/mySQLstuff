{
 "cells": [
  {
   "cell_type": "markdown",
   "metadata": {},
   "source": [
    "# Inserting data"
   ]
  },
  {
   "cell_type": "markdown",
   "metadata": {},
   "source": [
    "Probably one of the most crucial parts of any database and a part of the Update part of our acronym CRUD, is adding data to our database. The easiest way to insert a new database is using the **INSERT INTO** statement."
   ]
  },
  {
   "cell_type": "markdown",
   "metadata": {},
   "source": [
    "### INSERT INTO"
   ]
  },
  {
   "cell_type": "markdown",
   "metadata": {},
   "source": [
    "Before we dive into how to use INSERT INTO, we should recall the [zen of python] (https://www.python.org/dev/peps/pep-0020/),*There Should be one - and preferably only one - way to do it*. For retrieval, we used the SELECT statement. In this case, to add, we use INSERT INTO. The syntax of inserting data using INSERT INTO is thus, assuming our users database in the previous couple of examples."
   ]
  },
  {
   "cell_type": "code",
   "execution_count": null,
   "metadata": {
    "collapsed": true
   },
   "outputs": [],
   "source": [
    "INSERT INTO users (\"id\", \"email\", \"password\")\\\n",
    "VALUES (\"3\", \"tested@tested.com\", \"PogChamp\");"
   ]
  },
  {
   "cell_type": "markdown",
   "metadata": {},
   "source": [
    "The syntax for insertion is generally INSERT INTO *database name* (\"*column name 1*\", \"*column name 2*\",...) VALUES (values corresponding to your ordering of columns). Do note that you can choose to do this:"
   ]
  },
  {
   "cell_type": "code",
   "execution_count": null,
   "metadata": {
    "collapsed": true
   },
   "outputs": [],
   "source": [
    "INSERT INTO users (\"id\")\\\n",
    "VALUES(\"4\");"
   ]
  },
  {
   "cell_type": "markdown",
   "metadata": {},
   "source": [
    "And this would also be syntactically correct. Null values are not necessarily bad and can be inserted into the database, but do be careful. They tend to lead to errors and exceptions when retrieving the data."
   ]
  }
 ],
 "metadata": {
  "kernelspec": {
   "display_name": "Python 3",
   "language": "python",
   "name": "python3"
  },
  "language_info": {
   "codemirror_mode": {
    "name": "ipython",
    "version": 3
   },
   "file_extension": ".py",
   "mimetype": "text/x-python",
   "name": "python",
   "nbconvert_exporter": "python",
   "pygments_lexer": "ipython3",
   "version": "3.5.2"
  }
 },
 "nbformat": 4,
 "nbformat_minor": 2
}
