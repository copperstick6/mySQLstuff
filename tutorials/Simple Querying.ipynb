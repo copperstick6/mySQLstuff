{
 "cells": [
  {
   "cell_type": "markdown",
   "metadata": {},
   "source": [
    "# Querying: an introduction"
   ]
  },
  {
   "cell_type": "markdown",
   "metadata": {},
   "source": [
    "#### Before we start doing any work with Python, we have to learn how to create a query through mySQL"
   ]
  },
  {
   "cell_type": "markdown",
   "metadata": {},
   "source": [
    "There are four basic functions of any storage system like mySQL and they form the acronym **CRUD**. This spells out **CREATE**, **READ**, **UPDATE**, and **DELETE**."
   ]
  },
  {
   "cell_type": "markdown",
   "metadata": {},
   "source": [
    "We'll go through all these different functions through our overview of mySQL."
   ]
  },
  {
   "cell_type": "markdown",
   "metadata": {},
   "source": [
    "## The Select and From Statement"
   ]
  },
  {
   "cell_type": "markdown",
   "metadata": {},
   "source": [
    "Much like many other programming languages, mySQL does not support natural language searching, and has a set of reserved key words or its **syntax** to carry out commands. Thus, we must learn the syntax to be able to manipulate any database."
   ]
  },
  {
   "cell_type": "markdown",
   "metadata": {},
   "source": [
    "The most basic query in mySQL is to retrieve a given field from a database. Say we had a database called *users* and we wanted to retrieve all the usernames of all the possible users, and that these usernames were stored in a field within the database called *username*. We would create the below query to do so:"
   ]
  },
  {
   "cell_type": "code",
   "execution_count": null,
   "metadata": {
    "collapsed": true
   },
   "outputs": [],
   "source": [
    "SELECT username FROM users;"
   ]
  },
  {
   "cell_type": "markdown",
   "metadata": {},
   "source": [
    "The SELECT statement chooses the column or field within the database and the FROM statement chooses which database to query the information from."
   ]
  },
  {
   "cell_type": "markdown",
   "metadata": {},
   "source": [
    "Rather than selecting a specific column, let's say you wanted to select all columns within the table. Use the asterick to do so ** * **. An example usage is below:"
   ]
  },
  {
   "cell_type": "code",
   "execution_count": null,
   "metadata": {
    "collapsed": true
   },
   "outputs": [],
   "source": [
    "SELECT * FROM users;"
   ]
  },
  {
   "cell_type": "markdown",
   "metadata": {},
   "source": [
    "### Syntax and Common Practices"
   ]
  },
  {
   "cell_type": "markdown",
   "metadata": {},
   "source": [
    "You also may wonder why SELECT and FROM are in all caps. The reason for this is due to the standard format created by the creators of SQL to avoid case issues with variable/field names. However, a later update removed this completely, and you can choose to use lower case if you want. However, it is common practice to utilize upper case to make it easier for others to read and comprehend your queries."
   ]
  },
  {
   "cell_type": "markdown",
   "metadata": {},
   "source": [
    "Note that in all our examples, a semicolon is utilized as the **default delimiter**. You can also change it to [whatever you want](http://stackoverflow.com/questions/10259504/delimiters-in-mysql) (i.e. hashtags, and other unreserved characters). Leaving off this semicolon whilst creating a mySQL query will result in either a second prompt or a crash. However, when passing queries from python **we don't need to end any statements with a semicolon** , as the entire string is assumed to be the query by the mySQL console."
   ]
  },
  {
   "cell_type": "markdown",
   "metadata": {},
   "source": [
    "Much like the semicolon, the backslash **/** is used to delimit lines and break up the query. Say you wanted to break up each word in a statement into its own line and not have it execute until the very end. You would do it with the backspace."
   ]
  },
  {
   "cell_type": "code",
   "execution_count": null,
   "metadata": {
    "collapsed": true
   },
   "outputs": [],
   "source": [
    "SELECT\\\n",
    "*\\\n",
    "FROM\\\n",
    "users;"
   ]
  },
  {
   "cell_type": "markdown",
   "metadata": {},
   "source": [
    "The backspace is utilized as proper design etiquette, generally utilized to separate quantifiers. The above example is a bit overkill. Proper etiquette would be as follows:"
   ]
  },
  {
   "cell_type": "code",
   "execution_count": null,
   "metadata": {
    "collapsed": true
   },
   "outputs": [],
   "source": [
    "SELECT *\\\n",
    "FROM users;"
   ]
  },
  {
   "cell_type": "markdown",
   "metadata": {},
   "source": [
    "Well, that about covers everything for now. We'll cover WHERE and GROUP BY and some simple query passing."
   ]
  }
 ],
 "metadata": {
  "kernelspec": {
   "display_name": "Python 3",
   "language": "python",
   "name": "python3"
  },
  "language_info": {
   "codemirror_mode": {
    "name": "ipython",
    "version": 3
   },
   "file_extension": ".py",
   "mimetype": "text/x-python",
   "name": "python",
   "nbconvert_exporter": "python",
   "pygments_lexer": "ipython3",
   "version": "3.5.2"
  }
 },
 "nbformat": 4,
 "nbformat_minor": 2
}
